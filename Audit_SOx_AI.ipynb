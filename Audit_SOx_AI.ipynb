{
  "nbformat": 4,
  "nbformat_minor": 0,
  "metadata": {
    "colab": {
      "provenance": [],
      "authorship_tag": "TSMKEY",
      "include_colab_link": true
    },
    "kernelspec": {
      "name": "python3",
      "display_name": "Python 3"
    },
    "language_info": {
      "name": "python"
    }
  },
  "cells": [
    {
      "cell_type": "markdown",
      "metadata": {
        "id": "view-in-github",
        "colab_type": "text"
      },
      "source": [
        "<a href=\"https://colab.research.google.com/github/tiagosmartins1/imersaoaluratsm/blob/main/Audit_SOx_AI.ipynb\" target=\"_parent\"><img src=\"https://colab.research.google.com/assets/colab-badge.svg\" alt=\"Open In Colab\"/></a>"
      ]
    },
    {
      "cell_type": "code",
      "source": [
        "from pathlib import Path\n",
        "import hashlib\n",
        "import google.generativeai as genai\n",
        "\n",
        "genai.configure(api_key=\"TSMKEY")"
      ],
      "metadata": {
        "id": "csXAW6qFZGzx"
      },
      "execution_count": 19,
      "outputs": []
    },
    {
      "cell_type": "code",
      "source": [
        "#Listando os modelos disponíveis\n",
        "for m in genai.list_models():\n",
        "  if 'generateContent' in m.supported_generation_methods:\n",
        "    print(m.name)"
      ],
      "metadata": {
        "colab": {
          "base_uri": "https://localhost:8080/",
          "height": 142
        },
        "id": "o1gQLf_vZMCH",
        "outputId": "5e467412-011a-44a3-f1c1-a5ceb5479d17"
      },
      "execution_count": 15,
      "outputs": [
        {
          "output_type": "stream",
          "name": "stdout",
          "text": [
            "models/gemini-1.0-pro\n",
            "models/gemini-1.0-pro-001\n",
            "models/gemini-1.0-pro-latest\n",
            "models/gemini-1.0-pro-vision-latest\n",
            "models/gemini-1.5-pro-latest\n",
            "models/gemini-pro\n",
            "models/gemini-pro-vision\n"
          ]
        }
      ]
    },
    {
      "cell_type": "code",
      "source": [
        "# aqui consiste na temperatura das respostas, quanto mais proximo do 1, mais aleatório é a respsta, ou seja, sera mais fiel a resposta\n",
        "generation_config = {\n",
        "  \"candidate_count\": 1,\n",
        "  \"temperature\": 0.5,\n",
        "\n",
        "}"
      ],
      "metadata": {
        "id": "1HrSxV2VZbUf"
      },
      "execution_count": 21,
      "outputs": []
    },
    {
      "cell_type": "code",
      "source": [
        "#Configuraçoes de segurança para resposta\n",
        "safety_settings={\n",
        "    'HATE': 'BLOCK_NONE',\n",
        "    'HARASSMENT': 'BLOCK_NONE',\n",
        "    'SEXUAL' : 'BLOCK_NONE',\n",
        "    'DANGEROUS' : 'BLOCK_NONE'\n",
        "    }"
      ],
      "metadata": {
        "id": "QcYSU7jZZflQ"
      },
      "execution_count": 26,
      "outputs": []
    },
    {
      "cell_type": "code",
      "source": [
        "model = genai.GenerativeModel(model_name='gemini-1.0-pro',\n",
        "                                  generation_config=generation_config,\n",
        "                                  safety_settings=safety_settings,)"
      ],
      "metadata": {
        "id": "GZ6SW6lBZn8j"
      },
      "execution_count": 27,
      "outputs": []
    },
    {
      "cell_type": "code",
      "source": [
        "response = model.generate_content(\"Quem regula o mercado de capitais americado\")\n",
        "response.text"
      ],
      "metadata": {
        "id": "9D9ROyzSa7rz"
      },
      "execution_count": null,
      "outputs": []
    },
    {
      "cell_type": "code",
      "source": [
        "chat = model.start_chat(history=[ ])"
      ],
      "metadata": {
        "id": "6x4zD9dBbeh7"
      },
      "execution_count": 33,
      "outputs": []
    },
    {
      "cell_type": "code",
      "source": [
        "pront  = input(\"Esperando pront: \")\n",
        "\n",
        "while pront != \"fim\":\n",
        "  response = chat.send_message(pront)\n",
        "  print(\"Resposta:\", response.text, 'n')\n",
        "  pront = input('Esperando prompt: ')\n"
      ],
      "metadata": {
        "id": "Dp9RYOWbcT8R"
      },
      "execution_count": null,
      "outputs": []
    },
    {
      "cell_type": "code",
      "source": [
        "#Importaço do pdf baixado do site do pcabo com toda a regra\n",
        "\n",
        "\n",
        "\"\"\"\n",
        "At the command line, only need to run once to install the package via pip:\n",
        "\n",
        "$ pip install google-generativeai\n",
        "\"\"\"\n",
        "\n",
        "from pathlib import Path\n",
        "import hashlib\n",
        "import google.generativeai as genai\n",
        "\n",
        "\n",
        "safety_settings = [\n",
        "  {\n",
        "    \"category\": \"HARM_CATEGORY_HARASSMENT\",\n",
        "    \"threshold\": \"BLOCK_MEDIUM_AND_ABOVE\"\n",
        "  },\n",
        "  {\n",
        "    \"category\": \"HARM_CATEGORY_HATE_SPEECH\",\n",
        "    \"threshold\": \"BLOCK_MEDIUM_AND_ABOVE\"\n",
        "  },\n",
        "  {\n",
        "    \"category\": \"HARM_CATEGORY_SEXUALLY_EXPLICIT\",\n",
        "    \"threshold\": \"BLOCK_MEDIUM_AND_ABOVE\"\n",
        "  },\n",
        "  {\n",
        "    \"category\": \"HARM_CATEGORY_DANGEROUS_CONTENT\",\n",
        "    \"threshold\": \"BLOCK_MEDIUM_AND_ABOVE\"\n",
        "  },\n",
        "\n",
        "def extract_pdf_pages(pathname: str) -> list[str]:\n",
        "  parts = [f\"--- START OF PDF ${pathname} ---\"]\n",
        "  # Add logica para ler o PDF e retornar com a lista de paginas.\n",
        "  pages = []\n",
        "  for index, page in enumerate(pages):\n",
        "    parts.append(f\"--- PAGE {index} ---\")\n",
        "    parts.append(page)\n",
        "  return parts\n",
        "\n",
        "convo = model.start_chat(history=[\n",
        "  {\n",
        "    \"role\": \"user\",\n",
        "    \"parts\": extract_pdf_pages(\"<path>/document0.pdf\")\n",
        "  },\n",
        "  {\n",
        "    \"role\": \"user\",\n",
        "    \"parts\": [\" Uma visao geral desse documento\"]\n",
        "  },\n",
        "  {\n",
        "    \"role\": \"model\",\n",
        "    \"parts\": [\"Este documento descreve os padrões de auditoria do PCAOB (Public Company Accounting Oversight Board) para auditorias de demonstrações financeiras para exercícios fiscais que terminam em ou após 15 de dezembro de 2024. Ele inclui os seguintes tópicos:\\n\\n**Padrões de Auditoria**\\n\\n* Uma lista de padrões de auditoria do PCAOB para auditorias de demonstrações financeiras para exercícios fiscais que terminam em ou após 15 de dezembro de 2024.\\n* Links para padrões de auditoria aplicáveis a outros períodos.\\n* Uma ferramenta de referência para encontrar padrões de auditoria análogos do ASB e do IAASB.\\n\\n**Padrões Gerais de Auditoria**\\n\\n* **Princípios e Responsabilidades Gerais (AS 1000)**\\n    * AS 1001: Responsabilidades e Funções do Auditor Independente\\n    * AS 1005: Independência\\n    * AS 1010: Treinamento e Proficiência do Auditor Independente\\n    * AS 1015: Cuidado Profissional Devido na Execução do Trabalho\\n* **Conceitos Gerais (AS 1100)**\\n    * AS 1101: Risco de Auditoria\\n    * AS 1105: Evidência de Auditoria\\n    * AS 1110: Relação dos Padrões de Auditoria com os Padrões de Controle de Qualidade\\n* **Atividades Gerais (AS 1200)**\\n    * AS 1201: Supervisão do Trabalho de Auditoria\\n    * AS 1206: Divisão de Responsabilidade pela Auditoria com Outra Empresa de Contabilidade\\n    * AS 1210: Utilização do Trabalho de um Especialista Contratado pelo Auditor\\n    * AS 1215: Documentação de Auditoria\\n    * AS 1220: Revisão da Qualidade do Trabalho\\n* **Comunicações do Auditor (AS 1300)**\\n    * AS 1301: Comunicações com os Comitês de Auditoria\\n    * AS 1305: Comunicações sobre Deficiências de Controle em uma Auditoria de Demonstrações Financeiras\\n\\n**Procedimentos de Auditoria**\\n\\n* **Planejamento de Auditoria e Avaliação de Riscos (AS 2100)**\\n    * AS 2101: Planejamento de Auditoria\\n    * AS 2105: Consideração da Materialidade no Planejamento e Execução de uma Auditoria\\n    * AS 2110: Identificação e Avaliação de Riscos de Distorção Relevante\\n* **Auditoria do Controle Interno sobre Relatórios Financeiros (AS 2200)**\\n    * AS 2201: Uma Auditoria do Controle Interno sobre Relatórios Financeiros que é Integrada com uma Auditoria de Demonstrações Financeiras\\n* **Procedimentos de Auditoria em Resposta a Riscos - Natureza, Tempo e Extensão (AS 2300)**\\n    * AS 2301: Respostas do Auditor aos Riscos de Distorção Relevante\\n    * AS 2305: Procedimentos Analíticos Substantivos\\n    * AS 2310: O Processo de Confirmação\\n    * AS 2315: Amostragem de Auditoria\\n* **Procedimentos de Auditoria para Aspectos Específicos da Auditoria (AS 2400)**\\n    * AS 2401: Consideração de Fraude em uma Auditoria de Demonstrações Financeiras\\n    * AS 2405: Atos Ilegais por Clientes\\n    * AS 2410: Partes Relacionadas\\n    * AS 2415: Consideração da Capacidade de uma Entidade de Continuar como uma Empresa em Andamento\\n* **Procedimentos de Auditoria para Determinadas Contas ou Divulgações (AS 2500)**\\n    * AS 2501: Auditoria de Estimativas Contábeis, Incluindo Mensurações a Valor Justo\\n    * AS 2505: Consulta ao Advogado do Cliente sobre Litígios, Reclamações e Avaliações\\n    * AS 2510: Auditoria de Estoques\\n* **Tópicos Especiais (AS 2600)**\\n    * AS 2601: Consideração do Uso de uma Organização de Serviços por uma Entidade\\n    * AS 2605: Consideração da Função de Auditoria Interna\\n    * AS 2610: Auditorias Iniciais - Comunicações entre Auditores Predecessores e Sucessores\\n* **Responsabilidades do Auditor em Relação a Informações Suplementares e Outras (AS 2700)**\\n    * AS 2701: Auditoria de Informações Suplementares que Acompanham as Demonstrações Financeiras Auditadas\\n    * AS 2705: Informações Suplementares Obrigatórias\\n    * AS 2710: Outras Informações em Documentos que Contêm Demonstrações Financeiras Auditadas\\n* **Procedimentos Finais de Auditoria (AS 2800)**\\n    * AS 2801: Eventos Subsequentes\\n    * AS 2805: Representações da Administração\\n    * AS 2810: Avaliação dos Resultados da Auditoria\\n    * AS 2815: O Significado de \\\"Apresentar Adequadamente de Acordo com os Princípios Contábeis Geralmente Aceitos\\\"\\n    * AS 2820: Avaliação da Consistência das Demonstrações Financeiras\\n* **Questões Pós-Auditoria (AS 2900)**\\n    * AS 2901: Consideração de Procedimentos Omitidos após a Data do Relatório\\n    * AS 2905: Descoberta Posterior de Fatos Existentes na Data do Relatório do Auditor\\n\\n**Relatório do Auditor**\\n\\n* **Relatório sobre Auditorias de Demonstrações Financeiras (AS 3100)**\\n    * AS 3101: Relatório do Auditor sobre uma Auditoria de Demonstrações Financeiras quando o Auditor Expressa uma Opinião sem Ressalvas\\n    * AS 3105: Desvios de Opiniões sem Ressalvas e Outras Circunstâncias de Relatório\\n    * AS 3110: Datação do Relatório do Auditor Independente\\n* **Outros Tópicos de Relatório (AS 3300)**\\n    * AS 3305: Relatórios Especiais\\n    * AS 3310: Relatórios Especiais sobre Empresas Regulamentadas\\n    * AS 3315: Relatório sobre Demonstrações Financeiras Condensadas e Dados Financeiros Selecionados\\n    * AS 3320: Associação com Demonstrações Financeiras\\n\\n**Questões Relacionadas a Arquivos sob as Leis Federais de Valores Mobiliários**\\n\\n* AS 4101: Responsabilidades em Relação a Arquivos sob as Leis Federais de Valores Mobiliários\\n* AS 4105: Revisões de Informações Financeiras Intermediárias\\n\\n**Outras Questões Associadas a Auditorias**\\n\\n* AS 6101: Cartas para Subscritores e Certas Outras Partes Solicitantes\\n* AS 6105: Relatórios sobre a Aplicação de Princípios Contábeis\\n* AS 6110: Considerações de Auditoria de Conformidade em Auditorias de Destinatários de Assistência Financeira Governamental\\n* AS 6115: Relatório sobre se uma Fraqueza Material Anteriormente Relatada Continua a Existir\\n\\nO documento fornece uma visão geral detalhada de cada padrão de auditoria, incluindo seu objetivo, requisitos e diretrizes. Ele também inclui apêndices com informações adicionais, como exemplos de relatórios e histórico e base para conclusões.\"]\n",
        "  },\n",
        "])\n",
        "\n",
        "convo.send_message(\"YOUR_USER_INPUT\")\n",
        "print(convo.last.text)\n",
        "\n",
        "\n"
      ],
      "metadata": {
        "id": "B92wUvdlu2Rn"
      },
      "execution_count": null,
      "outputs": []
    },
    {
      "cell_type": "code",
      "source": [
        "#Melhorando a visualização\n",
        "#Código disponível em https://ai.google.dev/tutorials/python_quickstart#import_packages\n",
        "import textwrap\n",
        "from IPython.display import display\n",
        "from IPython.display import Markdown\n",
        "\n",
        "def to_markdown(text):\n",
        "  text = text.replace('•', '  *')\n",
        "  return Markdown(textwrap.indent(text, '> ', predicate=lambda _: True))\n",
        "\n",
        "#Imprimindo o histórico\n",
        "for message in chat.history:\n",
        "  display(to_markdown(f'**{message.role}**: {message.parts[0].text}'))\n",
        "  print('-------------------------------------------')"
      ],
      "metadata": {
        "id": "oAaBfDxieOCx"
      },
      "execution_count": null,
      "outputs": []
    }
  ]
}
